{
 "cells": [
  {
   "cell_type": "code",
   "execution_count": 34,
   "id": "c8581c30",
   "metadata": {},
   "outputs": [],
   "source": [
    "import re, json\n",
    "import inquirer\n",
    "import itertools\n",
    "import urllib.parse"
   ]
  },
  {
   "cell_type": "code",
   "execution_count": 19,
   "id": "3586369d",
   "metadata": {},
   "outputs": [
    {
     "name": "stdout",
     "output_type": "stream",
     "text": [
      "Requirement already satisfied: inquirer in /Users/alienpdev/opt/anaconda3/lib/python3.9/site-packages (3.1.2)\n",
      "Requirement already satisfied: python-editor>=1.0.4 in /Users/alienpdev/opt/anaconda3/lib/python3.9/site-packages (from inquirer) (1.0.4)\n",
      "Requirement already satisfied: blessed>=1.19.0 in /Users/alienpdev/opt/anaconda3/lib/python3.9/site-packages (from inquirer) (1.20.0)\n",
      "Requirement already satisfied: readchar>=3.0.6 in /Users/alienpdev/opt/anaconda3/lib/python3.9/site-packages (from inquirer) (4.0.3)\n",
      "Requirement already satisfied: wcwidth>=0.1.4 in /Users/alienpdev/opt/anaconda3/lib/python3.9/site-packages (from blessed>=1.19.0->inquirer) (0.2.5)\n",
      "Requirement already satisfied: six>=1.9.0 in /Users/alienpdev/opt/anaconda3/lib/python3.9/site-packages (from blessed>=1.19.0->inquirer) (1.16.0)\n",
      "Requirement already satisfied: setuptools>=41.0 in /Users/alienpdev/opt/anaconda3/lib/python3.9/site-packages (from readchar>=3.0.6->inquirer) (63.4.1)\n",
      "Note: you may need to restart the kernel to use updated packages.\n"
     ]
    }
   ],
   "source": [
    "pip install inquirer"
   ]
  },
  {
   "cell_type": "code",
   "execution_count": 12,
   "id": "62a4b399",
   "metadata": {},
   "outputs": [],
   "source": [
    "def TittleToText(text:str):\n",
    "    result = re.sub(r'(?<=\\w)([A-Z])', r' \\1', text)  \n",
    "    return result.lower()"
   ]
  },
  {
   "cell_type": "code",
   "execution_count": 6,
   "id": "7cdf839f",
   "metadata": {},
   "outputs": [
    {
     "name": "stdout",
     "output_type": "stream",
     "text": [
      "enter enpoint url : https://partner-api.estidar.com/api/v1/campaign/listCampaigns\n"
     ]
    }
   ],
   "source": [
    "endpoint:str = input('enter enpoint url : ')\n",
    "# endpoint:str = 'https://partner-api.estidar-dev.com/businessUser/createBusinessUser'\n",
    "param_split = endpoint.split(\"?\")\n",
    "splitter = param_split[0].split(\"/\")\n",
    "describe_name = TittleToText(splitter[-2])\n",
    "test_name = TittleToText(splitter[-1]) "
   ]
  },
  {
   "cell_type": "code",
   "execution_count": 26,
   "id": "43851092",
   "metadata": {},
   "outputs": [
    {
     "name": "stdout",
     "output_type": "stream",
     "text": [
      "insert method type [\"get\",\"post\",\"put\",\"delete\"] : get\n"
     ]
    }
   ],
   "source": [
    "method_type = input('insert method type [\"get\",\"post\",\"put\",\"delete\"] : ')"
   ]
  },
  {
   "cell_type": "code",
   "execution_count": null,
   "id": "42386dd3",
   "metadata": {},
   "outputs": [],
   "source": []
  },
  {
   "cell_type": "code",
   "execution_count": 27,
   "id": "27f4c04c",
   "metadata": {},
   "outputs": [
    {
     "data": {
      "text/plain": [
       "'campaign'"
      ]
     },
     "execution_count": 27,
     "metadata": {},
     "output_type": "execute_result"
    }
   ],
   "source": [
    "describe_name"
   ]
  },
  {
   "cell_type": "code",
   "execution_count": 28,
   "id": "a7ad3528",
   "metadata": {},
   "outputs": [
    {
     "name": "stdout",
     "output_type": "stream",
     "text": [
      "input expected if true : {\"totalResults\":100,\"pageSize\":10,\"currentPage\":2,\"campaigns\":[{\"campaignId\":39847239764,\"title\":\"This is the title of the campaign\",\"forBusinessUserName\":\"Nature Shop\",\"createdByUserType\":\"PARTNER\",\"createdByUserName\":\"Ahmed Ali\",\"campaignImageLink\":\"https://s3.aws/image1.jpg\",\"campaignImageLinkKey\":\"https://s3.aws/image1.jpg\",\"productFileLinks\":[{\"link\":\"https://s3.aws/image1.jpg\",\"linkKey\":\"https://s3.aws/image1.jpg\"}],\"totalInfluencers\":4,\"totalSubCampaigns\":6,\"totalPrice\":10000,\"startTimeInMillis\":763192836821,\"endTimeInMillis\":63129836213,\"createdTimeInMillis\":342934982374,\"status\":\"DRAFT\"}]}\n"
     ]
    }
   ],
   "source": [
    "expectTrue = input('input expected if true : ')\n",
    "# expectTrue:str = json.dumps({\"businessUserId\":0,\"businessPartnerId\":0,\"name\":\"Tokopedia\",\"email\":\"tokopedia@tokopedia.com\",\"phoneNumber\":\"62854555931\"})\n",
    "json_data = json.loads(expectTrue)\n",
    "listExpectTrue = list(json_data.keys())"
   ]
  },
  {
   "cell_type": "code",
   "execution_count": 29,
   "id": "3130f5df",
   "metadata": {},
   "outputs": [
    {
     "data": {
      "text/plain": [
       "['totalResults', 'pageSize', 'currentPage', 'campaigns']"
      ]
     },
     "execution_count": 29,
     "metadata": {},
     "output_type": "execute_result"
    }
   ],
   "source": [
    "listExpectTrue"
   ]
  },
  {
   "cell_type": "code",
   "execution_count": 30,
   "id": "dac582b2",
   "metadata": {},
   "outputs": [
    {
     "name": "stdout",
     "output_type": "stream",
     "text": [
      "parameter type json? [y/n] : n\n"
     ]
    }
   ],
   "source": [
    "param_type = input(\"parameter type json? [y/n] : \")\n",
    "if param_type.lower() == 'y':\n",
    "    param_type = \"body\"\n",
    "elif param_type.lower() == 'n':\n",
    "    param_type = \"param\""
   ]
  },
  {
   "cell_type": "code",
   "execution_count": 31,
   "id": "a8013c92",
   "metadata": {},
   "outputs": [
    {
     "data": {
      "text/plain": [
       "'param'"
      ]
     },
     "execution_count": 31,
     "metadata": {},
     "output_type": "execute_result"
    }
   ],
   "source": [
    "param_type"
   ]
  },
  {
   "cell_type": "code",
   "execution_count": null,
   "id": "4dce30a0",
   "metadata": {},
   "outputs": [],
   "source": [
    "param = {}\n",
    "if param_type == \"body\":\n",
    "    param = input('input paramerter as dictionary : ')\n",
    "    # param:str = json.dumps({\"name\":\"Unilever\",\"email\":\"unilever@unilever.com\",\"phoneNumber\":\"62854555936\"})\n",
    "    param_json = json.loads(param)\n",
    "else:\n",
    "    param = input('input paramerter : ')\n",
    "    param_json = urllib.parse.parse_qs(param)\n",
    "print(param_json)"
   ]
  },
  {
   "cell_type": "code",
   "execution_count": 42,
   "id": "d63e3ef1",
   "metadata": {},
   "outputs": [
    {
     "data": {
      "text/plain": [
       "{'forBusinessUserId': '36',\n",
       " 'searchQuery': 'Unilever',\n",
       " 'status': ['AWAITING_PAYMENT', 'COMPLETED'],\n",
       " 'influencerId': ['1', '2']}"
      ]
     },
     "execution_count": 42,
     "metadata": {},
     "output_type": "execute_result"
    }
   ],
   "source": [
    "param_json"
   ]
  },
  {
   "cell_type": "code",
   "execution_count": 58,
   "id": "727d4bda",
   "metadata": {},
   "outputs": [
    {
     "name": "stdout",
     "output_type": "stream",
     "text": [
      "[['status_AWAITING_PAYMENT', 'status_COMPLETED'], ['influencerId_1', 'influencerId_2']]\n",
      "{'forBusinessUserId': '36', 'searchQuery': 'Unilever', 'status': 'AWAITING_PAYMENT', 'influencerId': '1'}\n",
      "==========\n",
      "{'forBusinessUserId': '36', 'searchQuery': 'Unilever', 'status': 'AWAITING_PAYMENT', 'influencerId': '2'}\n",
      "==========\n",
      "{'forBusinessUserId': '36', 'searchQuery': 'Unilever', 'status': 'COMPLETED', 'influencerId': '1'}\n",
      "==========\n",
      "{'forBusinessUserId': '36', 'searchQuery': 'Unilever', 'status': 'COMPLETED', 'influencerId': '2'}\n",
      "==========\n",
      "[{'forBusinessUserId': '36', 'searchQuery': 'Unilever', 'status': 'AWAITING_PAYMENT', 'influencerId': '1'}, {'forBusinessUserId': '36', 'searchQuery': 'Unilever', 'status': 'AWAITING_PAYMENT', 'influencerId': '2'}, {'forBusinessUserId': '36', 'searchQuery': 'Unilever', 'status': 'COMPLETED', 'influencerId': '1'}, {'forBusinessUserId': '36', 'searchQuery': 'Unilever', 'status': 'COMPLETED', 'influencerId': '2'}]\n"
     ]
    }
   ],
   "source": [
    "\"\"\" PARSER \"\"\"\n",
    "def parser(param_data):\n",
    "    temp_list = []\n",
    "    list_key = param_data.keys()\n",
    "    for detail in param_data:\n",
    "        key = param_data[detail]\n",
    "        if type(key) == list:\n",
    "            temp_again = []\n",
    "            for x in key:\n",
    "                if type(x) == int:\n",
    "                    temp_again.append(f'int_{detail}_{str(x)}')\n",
    "                else:\n",
    "                    temp_again.append(f'{detail}_{x}')\n",
    "            temp_list.append(temp_again)\n",
    "    print(temp_list)\n",
    "    iter = list(itertools.product(*temp_list))\n",
    "    new_list_param_data = []\n",
    "    for detail in iter:\n",
    "        list_iter = list(detail)\n",
    "        temp_param_data = param_data.copy()\n",
    "        for detail_iter in list_iter:\n",
    "            for detail_list_key in list_key:\n",
    "                if detail_list_key in detail_iter:\n",
    "                    str_param_data:str = detail_iter\n",
    "                    string_parser = str_param_data.replace(detail_list_key+\"_\",\"\")\n",
    "                    if 'int_' in string_parser:\n",
    "                        temp_param_data[detail_list_key] = int(string_parser.replace(\"int_\",\"\"))\n",
    "                    else:\n",
    "                        temp_param_data[detail_list_key] = string_parser\n",
    "\n",
    "        # print(type(detail))\n",
    "        new_list_param_data.append(temp_param_data)\n",
    "        print(temp_param_data)\n",
    "        print(\"==========\")\n",
    "    print(new_list_param_data)\n",
    "    return new_list_param_data\n",
    "\n",
    "data_parser = parser(param_json)"
   ]
  },
  {
   "cell_type": "code",
   "execution_count": 72,
   "id": "ad5a96be",
   "metadata": {},
   "outputs": [
    {
     "name": "stdout",
     "output_type": "stream",
     "text": [
      "status\n",
      "{'params': {'forBusinessUserId': '36', 'searchQuery': 'Unilever', 'status': 'AWAITING_PAYMENT', 'influencerId': '1'}, 'expectedStatusCode': 401, 'expectKeyResult': ['message']}\n",
      "\n",
      "influencerId\n",
      "{'params': {'forBusinessUserId': '36', 'searchQuery': 'Unilever', 'status': 'AWAITING_PAYMENT', 'influencerId': '1'}, 'expectedStatusCode': 200, 'expectKeyResult': ['totalResults', 'pageSize', 'currentPage', 'campaigns']}\n",
      "\n",
      "forBusinessUserId\n",
      "temp_data : {'searchQuery': 'Unilever', 'status': 'AWAITING_PAYMENT', 'influencerId': '1'}\n",
      "{'params': {'searchQuery': 'Unilever', 'status': 'AWAITING_PAYMENT', 'influencerId': '1'}, 'expectedStatusCode': 200, 'expectKeyResult': ['totalResults', 'pageSize', 'currentPage', 'campaigns']}\n",
      "\n",
      "searchQuery\n",
      "temp_data : {'forBusinessUserId': '36', 'status': 'AWAITING_PAYMENT', 'influencerId': '1'}\n",
      "{'params': {'forBusinessUserId': '36', 'status': 'AWAITING_PAYMENT', 'influencerId': '1'}, 'expectedStatusCode': 200, 'expectKeyResult': ['totalResults', 'pageSize', 'currentPage', 'campaigns']}\n",
      "\n",
      "status\n",
      "temp_data : {'forBusinessUserId': '36', 'searchQuery': 'Unilever', 'influencerId': '1'}\n",
      "{'params': {'forBusinessUserId': '36', 'searchQuery': 'Unilever', 'influencerId': '1'}, 'expectedStatusCode': 200, 'expectKeyResult': ['totalResults', 'pageSize', 'currentPage', 'campaigns']}\n",
      "\n",
      "influencerId\n",
      "temp_data : {'forBusinessUserId': '36', 'searchQuery': 'Unilever', 'status': 'AWAITING_PAYMENT'}\n",
      "{'params': {'forBusinessUserId': '36', 'searchQuery': 'Unilever', 'status': 'AWAITING_PAYMENT'}, 'expectedStatusCode': 200, 'expectKeyResult': ['totalResults', 'pageSize', 'currentPage', 'campaigns']}\n",
      "\n",
      "status\n",
      "temp_data : {'forBusinessUserId': '36', 'searchQuery': 'Unilever', 'influencerId': '2'}\n",
      "{'params': {'forBusinessUserId': '36', 'searchQuery': 'Unilever', 'influencerId': '2'}, 'expectedStatusCode': 200, 'expectKeyResult': ['totalResults', 'pageSize', 'currentPage', 'campaigns']}\n",
      "\n",
      "influencerId\n",
      "temp_data : {'forBusinessUserId': '36', 'searchQuery': 'Unilever', 'status': 'AWAITING_PAYMENT'}\n",
      "{'params': {'forBusinessUserId': '36', 'searchQuery': 'Unilever', 'status': 'AWAITING_PAYMENT'}, 'expectedStatusCode': 200, 'expectKeyResult': ['totalResults', 'pageSize', 'currentPage', 'campaigns']}\n",
      "forBusinessUserId\n",
      "temp_data : {'searchQuery': 'Unilever', 'status': 'AWAITING_PAYMENT', 'influencerId': '2'}\n",
      "{'params': {'searchQuery': 'Unilever', 'status': 'AWAITING_PAYMENT', 'influencerId': '2'}, 'expectedStatusCode': 200, 'expectKeyResult': ['totalResults', 'pageSize', 'currentPage', 'campaigns']}\n",
      "\n",
      "searchQuery\n",
      "temp_data : {'forBusinessUserId': '36', 'status': 'AWAITING_PAYMENT', 'influencerId': '2'}\n",
      "{'params': {'forBusinessUserId': '36', 'status': 'AWAITING_PAYMENT', 'influencerId': '2'}, 'expectedStatusCode': 200, 'expectKeyResult': ['totalResults', 'pageSize', 'currentPage', 'campaigns']}\n",
      "\n",
      "status\n",
      "temp_data : {'forBusinessUserId': '36', 'searchQuery': 'Unilever', 'influencerId': '2'}\n",
      "{'params': {'forBusinessUserId': '36', 'searchQuery': 'Unilever', 'influencerId': '2'}, 'expectedStatusCode': 200, 'expectKeyResult': ['totalResults', 'pageSize', 'currentPage', 'campaigns']}\n",
      "influencerId\n",
      "temp_data : {'forBusinessUserId': '36', 'searchQuery': 'Unilever', 'status': 'AWAITING_PAYMENT'}\n",
      "{'params': {'forBusinessUserId': '36', 'searchQuery': 'Unilever', 'status': 'AWAITING_PAYMENT'}, 'expectedStatusCode': 200, 'expectKeyResult': ['totalResults', 'pageSize', 'currentPage', 'campaigns']}\n",
      "status\n",
      "temp_data : {'forBusinessUserId': '36', 'searchQuery': 'Unilever', 'influencerId': '1'}\n",
      "{'params': {'forBusinessUserId': '36', 'searchQuery': 'Unilever', 'influencerId': '1'}, 'expectedStatusCode': 200, 'expectKeyResult': ['totalResults', 'pageSize', 'currentPage', 'campaigns']}\n",
      "influencerId\n",
      "temp_data : {'forBusinessUserId': '36', 'searchQuery': 'Unilever', 'status': 'COMPLETED'}\n",
      "{'params': {'forBusinessUserId': '36', 'searchQuery': 'Unilever', 'status': 'COMPLETED'}, 'expectedStatusCode': 200, 'expectKeyResult': ['totalResults', 'pageSize', 'currentPage', 'campaigns']}\n",
      "\n",
      "forBusinessUserId\n",
      "temp_data : {'searchQuery': 'Unilever', 'status': 'COMPLETED', 'influencerId': '1'}\n",
      "{'params': {'searchQuery': 'Unilever', 'status': 'COMPLETED', 'influencerId': '1'}, 'expectedStatusCode': 200, 'expectKeyResult': ['totalResults', 'pageSize', 'currentPage', 'campaigns']}\n",
      "\n",
      "searchQuery\n",
      "temp_data : {'forBusinessUserId': '36', 'status': 'COMPLETED', 'influencerId': '1'}\n",
      "{'params': {'forBusinessUserId': '36', 'status': 'COMPLETED', 'influencerId': '1'}, 'expectedStatusCode': 200, 'expectKeyResult': ['totalResults', 'pageSize', 'currentPage', 'campaigns']}\n",
      "\n",
      "status\n",
      "temp_data : {'forBusinessUserId': '36', 'searchQuery': 'Unilever', 'influencerId': '1'}\n",
      "{'params': {'forBusinessUserId': '36', 'searchQuery': 'Unilever', 'influencerId': '1'}, 'expectedStatusCode': 200, 'expectKeyResult': ['totalResults', 'pageSize', 'currentPage', 'campaigns']}\n",
      "influencerId\n",
      "temp_data : {'forBusinessUserId': '36', 'searchQuery': 'Unilever', 'status': 'COMPLETED'}\n",
      "{'params': {'forBusinessUserId': '36', 'searchQuery': 'Unilever', 'status': 'COMPLETED'}, 'expectedStatusCode': 200, 'expectKeyResult': ['totalResults', 'pageSize', 'currentPage', 'campaigns']}\n",
      "status\n",
      "temp_data : {'forBusinessUserId': '36', 'searchQuery': 'Unilever', 'influencerId': '2'}\n",
      "{'params': {'forBusinessUserId': '36', 'searchQuery': 'Unilever', 'influencerId': '2'}, 'expectedStatusCode': 200, 'expectKeyResult': ['totalResults', 'pageSize', 'currentPage', 'campaigns']}\n",
      "influencerId\n",
      "temp_data : {'forBusinessUserId': '36', 'searchQuery': 'Unilever', 'status': 'COMPLETED'}\n",
      "{'params': {'forBusinessUserId': '36', 'searchQuery': 'Unilever', 'status': 'COMPLETED'}, 'expectedStatusCode': 200, 'expectKeyResult': ['totalResults', 'pageSize', 'currentPage', 'campaigns']}\n",
      "forBusinessUserId\n",
      "temp_data : {'searchQuery': 'Unilever', 'status': 'COMPLETED', 'influencerId': '2'}\n",
      "{'params': {'searchQuery': 'Unilever', 'status': 'COMPLETED', 'influencerId': '2'}, 'expectedStatusCode': 200, 'expectKeyResult': ['totalResults', 'pageSize', 'currentPage', 'campaigns']}\n",
      "\n",
      "searchQuery\n",
      "temp_data : {'forBusinessUserId': '36', 'status': 'COMPLETED', 'influencerId': '2'}\n",
      "{'params': {'forBusinessUserId': '36', 'status': 'COMPLETED', 'influencerId': '2'}, 'expectedStatusCode': 200, 'expectKeyResult': ['totalResults', 'pageSize', 'currentPage', 'campaigns']}\n",
      "\n",
      "status\n",
      "temp_data : {'forBusinessUserId': '36', 'searchQuery': 'Unilever', 'influencerId': '2'}\n",
      "{'params': {'forBusinessUserId': '36', 'searchQuery': 'Unilever', 'influencerId': '2'}, 'expectedStatusCode': 200, 'expectKeyResult': ['totalResults', 'pageSize', 'currentPage', 'campaigns']}\n",
      "influencerId\n",
      "temp_data : {'forBusinessUserId': '36', 'searchQuery': 'Unilever', 'status': 'COMPLETED'}\n",
      "{'params': {'forBusinessUserId': '36', 'searchQuery': 'Unilever', 'status': 'COMPLETED'}, 'expectedStatusCode': 200, 'expectKeyResult': ['totalResults', 'pageSize', 'currentPage', 'campaigns']}\n"
     ]
    }
   ],
   "source": [
    "def createTestCase(data_param:list):\n",
    "    testCase = []\n",
    "    temp_query = []\n",
    "    num = 0\n",
    "    for datas in data_param:\n",
    "        data:dict = datas\n",
    "#         print(datas)\n",
    "        length = len(data)+2\n",
    "        list_keys = list(data.keys())\n",
    "    #     print(list_keys)\n",
    "        for i in range(length):\n",
    "            print(list_keys[i-2])\n",
    "            temp = {}\n",
    "            status = True\n",
    "            if num == 0:\n",
    "                temp['params'] = data\n",
    "                temp['expectedStatusCode'] = 401\n",
    "                temp['expectKeyResult'] = ['message']\n",
    "                print(temp)\n",
    "            elif num == 1:\n",
    "                temp['params'] = data\n",
    "                temp['expectedStatusCode'] = 200\n",
    "                temp['expectKeyResult'] = listExpectTrue\n",
    "                print(temp)\n",
    "            else:\n",
    "    #             print('data = '+str(data))\n",
    "                temp_data = data.copy()\n",
    "                del temp_data[list_keys[i-2]]\n",
    "                print('temp_data : '+str(temp_data))\n",
    "                if temp_data in temp_query:\n",
    "                    status = False\n",
    "                temp_query.append(temp_data)\n",
    "                temp['params'] = temp_data\n",
    "                temp['expectedStatusCode'] = 200\n",
    "                temp['expectKeyResult'] = listExpectTrue\n",
    "                print(temp)\n",
    "\n",
    "            num += 1\n",
    "            if status:\n",
    "                testCase.append(temp)\n",
    "                print(\"\")\n",
    "    return testCase\n",
    "testCases = createTestCase(data_parser)"
   ]
  },
  {
   "cell_type": "code",
   "execution_count": 96,
   "id": "e3082048",
   "metadata": {},
   "outputs": [],
   "source": []
  },
  {
   "cell_type": "code",
   "execution_count": null,
   "id": "e8d4962f",
   "metadata": {},
   "outputs": [],
   "source": []
  },
  {
   "cell_type": "code",
   "execution_count": 73,
   "id": "ba602b8e",
   "metadata": {},
   "outputs": [
    {
     "data": {
      "text/plain": [
       "5"
      ]
     },
     "execution_count": 73,
     "metadata": {},
     "output_type": "execute_result"
    }
   ],
   "source": [
    "\"\"\"Created Files\"\"\"\n",
    "file = open(splitter[-1]+\".spec.ts\",\"a+\")\n",
    "file.write('import { test, expect } from \"@playwright/test\";')\n",
    "file.write('\\r\\n')\n",
    "file.write('test.describe(\"'+describe_name+'\", () => {')\n",
    "file.write('\\r\\n')\n",
    "file.write('const expectTrue = '+str(listExpectTrue))\n",
    "file.write('\\r\\n')\n",
    "file.write('const testCase = '+str(testCases))\n",
    "file.write('\\r\\n')\n",
    "file.write('let increment = 0;')\n",
    "file.write('\\r\\n')\n",
    "file.write('const auth = process.env.AUTH || \"\";')\n",
    "file.write('\\r\\n')\n",
    "file.write('testCase.map(({ params, expectedStatusCode, expectKeyResult }) => {')\n",
    "file.write('\\r\\n')\n",
    "if param_type == \"param\":\n",
    "    file.write('const query = Object.entries(params).map(([key, value]) => `${key}=${encodeURIComponent(value)}`).join(\"&\");')\n",
    "    file.write('\\r\\n')\n",
    "    file.write('const url = `'+str(endpoint).replace(\" \",\"\")+'${query}`')\n",
    "    file.write('\\r\\n')\n",
    "else:\n",
    "    file.write('const url = `'+str(endpoint).replace(\" \",\"\")+'`')\n",
    "    file.write('\\r\\n')\n",
    "    \n",
    "file.write('\\r\\n')\n",
    "file.write('test(`'+str(test_name)+' with param = ${JSON.stringify(params)} and return = ${expectedStatusCode}`, async ({ request }) => {')\n",
    "file.write('\\r\\n')\n",
    "file.write('let headers = {};')\n",
    "file.write('\\r\\n')\n",
    "file.write('if (increment != 0) {headers = {Authorization: `Bearer ${auth}`,};}')\n",
    "file.write('\\r\\n')\n",
    "if method_type == \"get\":\n",
    "    file.write('const issues = await request.get(url, {headers: headers,});')\n",
    "    file.write('\\r\\n')\n",
    "if method_type == \"delete\":\n",
    "    file.write('const issues = await request.delete(url, {headers: headers,});')\n",
    "    file.write('\\r\\n')\n",
    "elif method_type == \"post\":\n",
    "    file.write('const issues = await request.post(url, {data: params,headers: headers,});')\n",
    "    file.write('\\r\\n')\n",
    "elif method_type == \"put\":\n",
    "    file.write('const issues = await request.put(url, {data: params,headers: headers,});')\n",
    "    file.write('\\r\\n')\n",
    "file.write('\\r\\n')\n",
    "file.write('expect.soft(issues.status()).toBe(expectedStatusCode);')\n",
    "file.write('\\r\\n')\n",
    "file.write('if (issues.status() == 401 || issues.status() == 200) {')\n",
    "file.write('\\r\\n')\n",
    "\n",
    "file.write('expect.soft(Object.keys(issues.json())).toEqual(expectKeyResult);')\n",
    "file.write('\\r\\n')\n",
    "file.write('};')\n",
    "file.write('\\r\\n')\n",
    "file.write('});')\n",
    "file.write('\\r\\n')\n",
    "file.write('increment += 1')\n",
    "file.write('\\r\\n')\n",
    "file.write('})});')\n"
   ]
  },
  {
   "cell_type": "code",
   "execution_count": null,
   "id": "a3235f2f",
   "metadata": {},
   "outputs": [],
   "source": []
  }
 ],
 "metadata": {
  "kernelspec": {
   "display_name": "Python 3 (ipykernel)",
   "language": "python",
   "name": "python3"
  },
  "language_info": {
   "codemirror_mode": {
    "name": "ipython",
    "version": 3
   },
   "file_extension": ".py",
   "mimetype": "text/x-python",
   "name": "python",
   "nbconvert_exporter": "python",
   "pygments_lexer": "ipython3",
   "version": "3.9.13"
  }
 },
 "nbformat": 4,
 "nbformat_minor": 5
}
